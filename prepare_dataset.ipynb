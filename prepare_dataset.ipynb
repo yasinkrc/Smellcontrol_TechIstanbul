{
 "cells": [
  {
   "cell_type": "code",
   "execution_count": 5,
   "metadata": {},
   "outputs": [
    {
     "name": "stdout",
     "output_type": "stream",
     "text": [
      "          0         1        2        3        4            5            6  \\\n",
      "0  193443.4  193025.0  62197.5  62178.2  62154.7  120557728.0   83064704.0   \n",
      "1  191027.6  191162.2  60891.8  60873.7  60853.5    6463676.5  190329328.0   \n",
      "2  189542.3  189866.0  59630.6  59602.4  59548.2    5929291.5   36875408.0   \n",
      "3  188211.5  188485.8  58356.4  58328.1  58270.9    5651954.0   61505924.0   \n",
      "4  186701.1  186905.7  56990.8  56938.5  56899.0    5407905.0  420379552.0   \n",
      "\n",
      "             7        8        9  ...       57       58       59       60  \\\n",
      "0   35546812.0  35233.6  35212.3  ...  13322.7  13316.7  28250.9  28263.9   \n",
      "1   55123896.0  34696.6  34673.1  ...  13067.5  13067.0  27607.6  27617.0   \n",
      "2   72806704.0  34185.3  34166.5  ...  12853.5  12854.0  27064.8  27050.9   \n",
      "3   41855980.0  33689.2  33682.3  ...  12612.9  12614.6  26413.3  26386.1   \n",
      "4  420379552.0  33159.1  33151.4  ...  12382.2  12381.7  25788.4  25750.4   \n",
      "\n",
      "        61       62       63         64         65 label  \n",
      "0  28268.2  38435.5  38352.7  32.060001  39.240002     0  \n",
      "1  27602.3  38194.7  38116.5  32.070000  39.369999     0  \n",
      "2  27013.5  37990.1  37968.3  32.070000  39.310001     0  \n",
      "3  26349.1  37792.4  37822.1  32.080002  39.290001     0  \n",
      "4  25722.9  37629.9  37693.7  32.110001  39.200001     0  \n",
      "\n",
      "[5 rows x 67 columns]\n"
     ]
    }
   ],
   "source": [
    "import pandas as pd\n",
    "\n",
    "# List of files to read\n",
    "file_names = [\n",
    "    '/home/ahmedtab/Desktop/Yasin/text_files/air_home.txt',\n",
    "    '/home/ahmedtab/Desktop/Yasin/text_files/coffe_home.txt',\n",
    "    '/home/ahmedtab/Desktop/Yasin/text_files/kolonya_home.txt'\n",
    "]\n",
    "\n",
    "# Initialize an empty list to hold DataFrames\n",
    "dfs = []\n",
    "\n",
    "# Process each file\n",
    "for i, file_name in enumerate(file_names):\n",
    "    with open(file_name, 'r') as file:\n",
    "        lines = file.readlines()\n",
    "    \n",
    "    # Split each line by semicolons and remove the 'start;' prefix\n",
    "    data = [line.strip().split(';')[1:] for line in lines]\n",
    "    \n",
    "    # Create a DataFrame from the data\n",
    "    df = pd.DataFrame(data)\n",
    "    \n",
    "    # Add a label column with the file index or name (remove the path)\n",
    "    df['label'] = i  # or df['label'] = file_name.split('/')[-1].split('.')[0]\n",
    "    \n",
    "    # Append to the list of DataFrames\n",
    "    dfs.append(df)\n",
    "\n",
    "# Concatenate all DataFrames\n",
    "final_df = pd.concat(dfs, ignore_index=True)\n",
    "\n",
    "# Save to a CSV file\n",
    "final_df.to_csv('/home/ahmedtab/Desktop/Yasin/dataset.csv', index=False)\n",
    "\n",
    "# Print the first few rows\n",
    "print(final_df.head())\n"
   ]
  },
  {
   "cell_type": "code",
   "execution_count": 6,
   "metadata": {},
   "outputs": [
    {
     "name": "stdout",
     "output_type": "stream",
     "text": [
      "          0         1        2        3        4            5            6  \\\n",
      "0  193443.4  193025.0  62197.5  62178.2  62154.7  120557728.0   83064704.0   \n",
      "1  191027.6  191162.2  60891.8  60873.7  60853.5    6463676.5  190329328.0   \n",
      "2  189542.3  189866.0  59630.6  59602.4  59548.2    5929291.5   36875408.0   \n",
      "3  188211.5  188485.8  58356.4  58328.1  58270.9    5651954.0   61505924.0   \n",
      "4  186701.1  186905.7  56990.8  56938.5  56899.0    5407905.0  420379552.0   \n",
      "\n",
      "             7        8        9  ...       57       58       59       60  \\\n",
      "0   35546812.0  35233.6  35212.3  ...  13322.7  13316.7  28250.9  28263.9   \n",
      "1   55123896.0  34696.6  34673.1  ...  13067.5  13067.0  27607.6  27617.0   \n",
      "2   72806704.0  34185.3  34166.5  ...  12853.5  12854.0  27064.8  27050.9   \n",
      "3   41855980.0  33689.2  33682.3  ...  12612.9  12614.6  26413.3  26386.1   \n",
      "4  420379552.0  33159.1  33151.4  ...  12382.2  12381.7  25788.4  25750.4   \n",
      "\n",
      "        61       62       63         64         65  label  \n",
      "0  28268.2  38435.5  38352.7  32.060001  39.240002      0  \n",
      "1  27602.3  38194.7  38116.5  32.070000  39.369999      0  \n",
      "2  27013.5  37990.1  37968.3  32.070000  39.310001      0  \n",
      "3  26349.1  37792.4  37822.1  32.080002  39.290001      0  \n",
      "4  25722.9  37629.9  37693.7  32.110001  39.200001      0  \n",
      "\n",
      "[5 rows x 67 columns]\n"
     ]
    }
   ],
   "source": [
    "import pandas as pd\n",
    "\n",
    "# Read the CSV file\n",
    "df = pd.read_csv('dataset.csv')\n",
    "\n",
    "# Print the first few rows of the DataFrame\n",
    "print(df.head())\n"
   ]
  },
  {
   "cell_type": "code",
   "execution_count": null,
   "metadata": {},
   "outputs": [],
   "source": []
  }
 ],
 "metadata": {
  "kernelspec": {
   "display_name": "Python 3",
   "language": "python",
   "name": "python3"
  },
  "language_info": {
   "codemirror_mode": {
    "name": "ipython",
    "version": 3
   },
   "file_extension": ".py",
   "mimetype": "text/x-python",
   "name": "python",
   "nbconvert_exporter": "python",
   "pygments_lexer": "ipython3",
   "version": "3.10.12"
  }
 },
 "nbformat": 4,
 "nbformat_minor": 2
}
